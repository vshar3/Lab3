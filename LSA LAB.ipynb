{
 "cells": [
  {
   "cell_type": "code",
   "execution_count": 1,
   "metadata": {
    "collapsed": true
   },
   "outputs": [],
   "source": [
    "from bs4 import BeautifulSoup\n",
    "import nltk\n",
    "from nltk.corpus import stopwords\n",
    "from sklearn.feature_extraction.text import TfidfVectorizer\n",
    "from sklearn.decomposition import TruncatedSVD"
   ]
  },
  {
   "cell_type": "code",
   "execution_count": 3,
   "metadata": {
    "collapsed": false
   },
   "outputs": [
    {
     "name": "stdout",
     "output_type": "stream",
     "text": [
      "[nltk_data] Downloading package stopwords to\n",
      "[nltk_data]     C:\\Users\\abcd\\AppData\\Roaming\\nltk_data...\n",
      "[nltk_data]   Package stopwords is already up-to-date!\n"
     ]
    },
    {
     "data": {
      "text/plain": [
       "True"
      ]
     },
     "execution_count": 3,
     "metadata": {},
     "output_type": "execute_result"
    }
   ],
   "source": [
    "nltk.download('stopwords')"
   ]
  },
  {
   "cell_type": "code",
   "execution_count": 5,
   "metadata": {
    "collapsed": true
   },
   "outputs": [],
   "source": [
    "from sklearn.datasets import fetch_20newsgroups\n",
    "categories = ['rec.motorcycles']\n",
    "dataset = fetch_20newsgroups(subset='all',shuffle=True, random_state=42, categories=categories)\n",
    "newsgroup = dataset.data"
   ]
  },
  {
   "cell_type": "code",
   "execution_count": 6,
   "metadata": {
    "collapsed": true
   },
   "outputs": [],
   "source": [
    "stopset = set(stopwords.words('english'))\n",
    "stopset.update(['lt','p','/p','br','amp','quot','field','font','normal','span','0px','rgb','style','51', \n",
    "                'spacing','text','helvetica','size','family', 'space', 'arial', 'height', 'indent', 'letter'\n",
    "                'line','none','sans','serif','transform','line','variant','weight','times', 'new','strong', 'video', 'title'\n",
    "                'white','word','letter', 'roman','0pt','16','color','12','14','21', 'neue', 'apple', 'class',  \n",
    "               ])"
   ]
  },
  {
   "cell_type": "code",
   "execution_count": 7,
   "metadata": {
    "collapsed": false
   },
   "outputs": [
    {
     "data": {
      "text/plain": [
       "\"From: thompson@apple.com (Paul Thompson)\\nSubject: Re: Back Breaker, Near Hit!!\\nOrganization: Apple Computer, Inc., Cupertino, California\\nLines: 29\\nNNTP-Posting-Host: apple.com\\n\\ninde7wv@Rosie.UH.EDU writes:\\n\\n>hear screeching tires.  I dart my eyes to my mirrors and realize it's the \\n>moroon flying up right behind me, in my panic I pop my clutch and stall the\\n>bike.  Luckily the guy stops a foot behind my rear wheel.\\n>I understand why you theoretically stop so far behind a car but can you\\n>really in actuality avoid such an incident?  Suggestions?\\n\\nThe experience you describe is why I don't like to sit with my bike in\\ngear - I figure there's a chance that I'll be startled in some way and\\nstall my bike.  And I figure this is more likely than the chance that\\nI'll be unable to escape some situation because of the extra time\\nneeded to put the bike in gear.\\n\\nSo I concentrate on avoiding situations rather than making split-second\\nevasive manuvers.  I split lanes so I'm not at the end of the line.\\n(Unfortunately this is not legal in most of the country)  If I can't\\nsplit (perhaps there isn't room) then I will stop near one side of the\\nlane so I have an easy escape, and leave my bike in gear until the next\\ncar has stopped.  I watch in my mirrors in the mean time to make sure\\nit will!  Whether I really would have time to move should a car fail to\\nstop, I haven't had to find out yet.  Some cars have an annoying habbit\\nof racing up behind you before braking heavilly, so it can be hard to\\ntell if they are planning to brake or not!\\n\\nSo in summary, position yourself for an easy exit, and then watch your\\nmirrors until it's all clear.\\n-- \\nPaul Thompson    Apple Computer    \\n\""
      ]
     },
     "execution_count": 7,
     "metadata": {},
     "output_type": "execute_result"
    }
   ],
   "source": [
    "newsgroup[0]"
   ]
  },
  {
   "cell_type": "code",
   "execution_count": 8,
   "metadata": {
    "collapsed": true
   },
   "outputs": [],
   "source": [
    "vectorizer = TfidfVectorizer(stop_words=stopset,\n",
    "                                 use_idf=True, ngram_range=(1, 3))\n",
    "X = vectorizer.fit_transform(newsgroup)"
   ]
  },
  {
   "cell_type": "code",
   "execution_count": 9,
   "metadata": {
    "collapsed": false
   },
   "outputs": [
    {
     "data": {
      "text/plain": [
       "<1x156670 sparse matrix of type '<class 'numpy.float64'>'\n",
       "\twith 413 stored elements in Compressed Sparse Row format>"
      ]
     },
     "execution_count": 9,
     "metadata": {},
     "output_type": "execute_result"
    }
   ],
   "source": [
    "X[0]\n"
   ]
  },
  {
   "cell_type": "code",
   "execution_count": 13,
   "metadata": {
    "collapsed": false
   },
   "outputs": [
    {
     "name": "stdout",
     "output_type": "stream",
     "text": [
      "  (0, 103558)\t0.0449646200163\n",
      "  (0, 33520)\t0.0530455548115\n",
      "  (0, 91014)\t0.0530455548115\n",
      "  (0, 149078)\t0.0530455548115\n",
      "  (0, 53120)\t0.0530455548115\n",
      "  (0, 48014)\t0.0530455548115\n",
      "  (0, 107314)\t0.0530455548115\n",
      "  (0, 134139)\t0.0530455548115\n",
      "  (0, 26576)\t0.0530455548115\n",
      "  (0, 106138)\t0.0530455548115\n",
      "  (0, 137037)\t0.0530455548115\n",
      "  (0, 66152)\t0.0530455548115\n",
      "  (0, 67126)\t0.0530455548115\n",
      "  (0, 26649)\t0.0530455548115\n",
      "  (0, 21447)\t0.0530455548115\n",
      "  (0, 111659)\t0.0530455548115\n",
      "  (0, 65156)\t0.0530455548115\n",
      "  (0, 14495)\t0.0530455548115\n",
      "  (0, 30430)\t0.0530455548115\n",
      "  (0, 156136)\t0.0530455548115\n",
      "  (0, 55900)\t0.0530455548115\n",
      "  (0, 131806)\t0.0530455548115\n",
      "  (0, 53993)\t0.0530455548115\n",
      "  (0, 29831)\t0.0530455548115\n",
      "  (0, 93032)\t0.0530455548115\n",
      "  :\t:\n",
      "  (0, 121595)\t0.0449646200163\n",
      "  (0, 66895)\t0.0344673460151\n",
      "  (0, 153892)\t0.010502143776\n",
      "  (0, 48389)\t0.0117443100628\n",
      "  (0, 144024)\t0.0339012526248\n",
      "  (0, 118978)\t0.0412071993138\n",
      "  (0, 72154)\t0.0412071993138\n",
      "  (0, 69657)\t0.0120451379433\n",
      "  (0, 107680)\t0.0118795268087\n",
      "  (0, 96705)\t0.0120731059764\n",
      "  (0, 5331)\t0.0304782342263\n",
      "  (0, 81957)\t0.00737035409209\n",
      "  (0, 29023)\t0.0299821642313\n",
      "  (0, 40218)\t0.04198218742\n",
      "  (0, 71824)\t0.0242703416171\n",
      "  (0, 36384)\t0.0535791155969\n",
      "  (0, 100544)\t0.00746709052925\n",
      "  (0, 68557)\t0.0290803525723\n",
      "  (0, 94779)\t0.0623928443502\n",
      "  (0, 26817)\t0.0398661178173\n",
      "  (0, 19198)\t0.0195491315454\n",
      "  (0, 132981)\t0.00735558383845\n",
      "  (0, 103536)\t0.0667512604484\n",
      "  (0, 34639)\t0.0220597241661\n",
      "  (0, 138754)\t0.128545651241\n"
     ]
    }
   ],
   "source": [
    "print (X[0])"
   ]
  },
  {
   "cell_type": "code",
   "execution_count": 14,
   "metadata": {
    "collapsed": false
   },
   "outputs": [
    {
     "data": {
      "text/plain": [
       "(996, 156670)"
      ]
     },
     "execution_count": 14,
     "metadata": {},
     "output_type": "execute_result"
    }
   ],
   "source": [
    "X.shape"
   ]
  },
  {
   "cell_type": "code",
   "execution_count": 15,
   "metadata": {
    "collapsed": false
   },
   "outputs": [
    {
     "data": {
      "text/plain": [
       "TruncatedSVD(algorithm='randomized', n_components=27, n_iter=100,\n",
       "       random_state=None, tol=0.0)"
      ]
     },
     "execution_count": 15,
     "metadata": {},
     "output_type": "execute_result"
    }
   ],
   "source": [
    "lsa = TruncatedSVD(n_components=27, n_iter=100)\n",
    "lsa.fit(X)"
   ]
  },
  {
   "cell_type": "code",
   "execution_count": 16,
   "metadata": {
    "collapsed": false
   },
   "outputs": [
    {
     "data": {
      "text/plain": [
       "array([ 0.00645291,  0.00157301,  0.00157301, ...,  0.00054533,\n",
       "        0.00054533,  0.00054533])"
      ]
     },
     "execution_count": 16,
     "metadata": {},
     "output_type": "execute_result"
    }
   ],
   "source": [
    "#first row for V\n",
    "lsa.components_[0]"
   ]
  },
  {
   "cell_type": "code",
   "execution_count": 21,
   "metadata": {
    "collapsed": false
   },
   "outputs": [
    {
     "name": "stdout",
     "output_type": "stream",
     "text": [
      "Concept 0:\n",
      "com\n",
      "sun\n",
      "sun com\n",
      "east sun\n",
      "east sun com\n",
      "east\n",
      "edu\n",
      "ed\n",
      "ed green\n",
      "green\n",
      " \n",
      "Concept 1:\n",
      "sun\n",
      "east sun\n",
      "east sun com\n",
      "sun com\n",
      "east\n",
      "ed green\n",
      "green\n",
      "ed\n",
      "egreen\n",
      "egreen east\n",
      " \n",
      "Concept 2:\n",
      "reply\n",
      "university\n",
      "co uk\n",
      "tony\n",
      "subject\n",
      "get\n",
      "east sun\n",
      "east sun com\n",
      "morgan\n",
      "really\n",
      " \n",
      "Concept 3:\n",
      "organization\n",
      "one\n",
      "00 22\n",
      "would\n",
      "said\n",
      "like\n",
      "host\n",
      "morgan demon\n",
      "morgan demon co\n",
      "hydro ca\n",
      " \n",
      "Concept 4:\n",
      "00 23\n",
      "right\n",
      "nec\n",
      "know\n",
      "university\n",
      "think\n",
      "org\n",
      "behanna\n",
      "organization\n",
      "anyone\n",
      " \n",
      "Concept 5:\n",
      "sun\n",
      "would\n",
      "subject\n",
      "reply\n",
      "get\n",
      "lines\n",
      "uk\n",
      "least\n",
      "egreen\n",
      "egreen east\n",
      " \n",
      "Concept 6:\n",
      "dod\n",
      "back\n",
      "duke\n",
      "would\n",
      "lines\n",
      "hydro ca\n",
      "left\n",
      "good\n",
      "levine\n",
      "got\n",
      " \n",
      "Concept 7:\n",
      "east\n",
      "ca\n",
      "ed green\n",
      "edu\n",
      "world\n",
      "writes\n",
      "article\n",
      "subject\n",
      "lines\n",
      "bike\n",
      " \n",
      "Concept 8:\n",
      "ed green\n",
      "world\n",
      "go\n",
      "got\n",
      "infante\n",
      "sun\n",
      "chain\n",
      "ride\n",
      "bnr\n",
      "good\n",
      " \n",
      "Concept 9:\n",
      "like\n",
      "subject\n",
      "bmw\n",
      "green\n",
      "east\n",
      "get\n",
      "bnr\n",
      "cs\n",
      "would\n",
      "university\n",
      " \n",
      "Concept 10:\n",
      "helmet\n",
      "even\n",
      "green\n",
      "well\n",
      "ed\n",
      "ed green\n",
      "00 01 10\n",
      "east\n",
      "would\n",
      "said\n",
      " \n",
      "Concept 11:\n",
      "east\n",
      "well\n",
      "00 23\n",
      "bike\n",
      "ride\n",
      "little\n",
      "one\n",
      "last\n",
      "stafford\n",
      "feet\n",
      " \n",
      "Concept 12:\n",
      "edu\n",
      "writes\n",
      "00 22 22\n",
      "subject\n",
      "ed\n",
      "00 22\n",
      "much\n",
      "sun\n",
      "cs\n",
      "biker\n",
      " \n",
      "Concept 13:\n",
      "posting\n",
      "00 22 22\n",
      "well\n",
      "university\n",
      "bike\n",
      "article\n",
      "ed green\n",
      "writes\n",
      "cs\n",
      "organization\n",
      " \n",
      "Concept 14:\n",
      "writes\n",
      "lines\n",
      "posting\n",
      "organization\n",
      "com\n",
      "article\n",
      "well\n",
      "good\n",
      "still\n",
      "even\n",
      " \n",
      "Concept 15:\n",
      "time\n",
      "org\n",
      "uk\n",
      "well\n",
      "get\n",
      "behanna\n",
      "writes\n",
      "ride\n",
      "mike\n",
      "distribution world\n",
      " \n",
      "Concept 16:\n",
      "host\n",
      "distribution\n",
      "drive\n",
      "organization\n",
      "00 22 22\n",
      "got\n",
      "least\n",
      "posting\n",
      "nntp\n",
      "nntp posting\n",
      " \n",
      "Concept 17:\n",
      "com\n",
      "sun\n",
      "east\n",
      "go\n",
      "sun com\n",
      "00 22 22\n",
      "someone\n",
      "ed\n",
      "john\n",
      "get\n",
      " \n",
      "Concept 18:\n",
      "article\n",
      "dod\n",
      "edu\n",
      "00 23\n",
      "sun\n",
      "sun com\n",
      "back\n",
      "really\n",
      "writes\n",
      "would\n",
      " \n",
      "Concept 19:\n",
      "sun com\n",
      "article\n",
      "subject\n",
      "east sun\n",
      "east sun com\n",
      "go\n",
      "dod\n",
      "lines\n",
      "good\n",
      "know\n",
      " \n",
      "Concept 20:\n",
      "bike\n",
      "would\n",
      "distribution\n",
      "com\n",
      "green\n",
      "university\n",
      "00 23\n",
      "helmet\n",
      "dod\n",
      "sun com\n",
      " \n",
      "Concept 21:\n",
      "ca\n",
      "sun com\n",
      "bmw\n",
      "good\n",
      "anyone\n",
      "00 22 22\n",
      "know\n",
      "like\n",
      "back\n",
      "ed green\n",
      " \n",
      "Concept 22:\n",
      "sun com\n",
      "bike\n",
      "edu\n",
      "get\n",
      "writes\n",
      "distribution\n",
      "sun\n",
      "anyone\n",
      "uk\n",
      "green\n",
      " \n",
      "Concept 23:\n",
      "get\n",
      "one\n",
      "00 23\n",
      "distribution\n",
      "know\n",
      "university\n",
      "would\n",
      "ca\n",
      "riding\n",
      "article\n",
      " \n",
      "Concept 24:\n",
      "organization\n",
      "like\n",
      "writes\n",
      "dod\n",
      "one\n",
      "helmet\n",
      "would\n",
      "least\n",
      "00 22 22\n",
      "ed\n",
      " \n",
      "Concept 25:\n",
      "subject\n",
      "bike\n",
      "dod\n",
      "sun com\n",
      "like\n",
      "00 23\n",
      "little\n",
      "posting\n",
      "sun\n",
      "state\n",
      " \n",
      "Concept 26:\n",
      "like\n",
      "article\n",
      "00 01\n",
      "edu\n",
      "00 22\n",
      "got\n",
      "well\n",
      "road\n",
      "lines\n",
      "take\n",
      " \n"
     ]
    }
   ],
   "source": [
    "terms = vectorizer.get_feature_names()\n",
    "for i, comp in enumerate(lsa.components_): \n",
    "    termsInComp = zip (terms,comp)\n",
    "    sortedTerms =  sorted(termsInComp, key=lambda x: x[1], reverse=True) [:10]\n",
    "    print (\"Concept %d:\" % i)\n",
    "    for term in sortedTerms:\n",
    "        print (term[0])\n",
    "    print (\" \")"
   ]
  },
  {
   "cell_type": "code",
   "execution_count": null,
   "metadata": {
    "collapsed": true
   },
   "outputs": [],
   "source": []
  }
 ],
 "metadata": {
  "anaconda-cloud": {},
  "kernelspec": {
   "display_name": "Python [conda root]",
   "language": "python",
   "name": "conda-root-py"
  },
  "language_info": {
   "codemirror_mode": {
    "name": "ipython",
    "version": 3
   },
   "file_extension": ".py",
   "mimetype": "text/x-python",
   "name": "python",
   "nbconvert_exporter": "python",
   "pygments_lexer": "ipython3",
   "version": "3.5.2"
  }
 },
 "nbformat": 4,
 "nbformat_minor": 1
}
